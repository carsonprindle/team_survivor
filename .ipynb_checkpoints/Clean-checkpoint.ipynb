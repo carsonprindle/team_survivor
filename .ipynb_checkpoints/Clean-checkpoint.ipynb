{
 "cells": [
  {
   "cell_type": "code",
   "execution_count": 1,
   "metadata": {},
   "outputs": [],
   "source": [
    "#Cleaning program\n",
    "#read data\n",
    "import pandas as pd       \n",
    "train = pd.read_csv(\"labeledTrainData.tsv\", header=0, delimiter=\"\\t\", quoting=3)"
   ]
  },
  {
   "cell_type": "code",
   "execution_count": 2,
   "metadata": {},
   "outputs": [],
   "source": [
    "#relic of the movie review thing, rev is the number review to read\n",
    "rev = 32\n",
    "\n",
    "# Import BeautifulSoup\n",
    "from bs4 import BeautifulSoup             \n",
    "import re\n",
    "\n",
    "# Initialize the BeautifulSoup object on a single movie review     \n",
    "example1 = BeautifulSoup(train[\"review\"][rev], \"html5lib\")  "
   ]
  },
  {
   "cell_type": "code",
   "execution_count": 3,
   "metadata": {},
   "outputs": [],
   "source": [
    "# Method to give a list of all the words in the comparison string\n",
    "def just_words(input):\n",
    "\tletters_only = re.sub(\"[^a-zA-Z]\",   # The pattern to search for\n",
    "                      \" \",               # The pattern to replace it with\n",
    "                      input)             # The text to search\n",
    "\tlower_case = letters_only.lower()    # Convert to lower case\n",
    "\twords = lower_case.split()           # Split into words\n",
    "\treturn words\n",
    "\n",
    "# Just the words from the input\n",
    "in_words = just_words(example1.get_text())\n",
    "#print(words)"
   ]
  },
  {
   "cell_type": "code",
   "execution_count": 4,
   "metadata": {},
   "outputs": [],
   "source": [
    "# Get stopwords\n",
    "import nltk\n",
    "from nltk.corpus import stopwords # Import the stop word list\n",
    "#print(str(stopwords.words(\"english\")))"
   ]
  },
  {
   "cell_type": "code",
   "execution_count": 5,
   "metadata": {},
   "outputs": [],
   "source": [
    "# Create new list of input words without stopwords using list comprehension\n",
    "trim = [w for w in in_words if w not in set(stopwords.words(\"english\"))]\n",
    "#print (trim)"
   ]
  },
  {
   "cell_type": "code",
   "execution_count": 11,
   "metadata": {},
   "outputs": [
    {
     "name": "stdout",
     "output_type": "stream",
     "text": [
      "Counter({'way': 3, 'film': 3, 'novel': 2, 'something': 2, 'like': 2, 'good': 2, 'faithful': 1, 'adaptation': 1, 'witty': 1, 'interesting': 1, 'french': 1, 'cynical': 1, 'depressed': 1, 'middle': 1, 'aged': 1, 'software': 1, 'engineer': 1, 'relying': 1, 'heavily': 1, 'first': 1, 'person': 1, 'narration': 1, 'none': 1, 'worse': 1, 'downbeat': 1, 'petit': 1, 'bourgeois': 1, 'sort': 1, 'philosophical': 1, 'blackly': 1, 'humorous': 1, 'best': 1, 'could': 1, 'describe': 1, 'intellectual': 1, 'charles': 1, 'bukowski': 1, 'disrespect': 1, 'cb': 1, 'intended': 1, 'mordantly': 1, 'funny': 1, 'also': 1, 'bleak': 1, 'analysis': 1, 'social': 1, 'sexual': 1, 'relations': 1, 'great': 1, 'achievement': 1, 'reflects': 1, 'real': 1, 'life': 1, 'recognisable': 1, 'make': 1, 'ask': 1, 'films': 1, 'one': 1, 'rare': 1, 'examples': 1, 'book': 1, 'making': 1, 'equally': 1})\n"
     ]
    }
   ],
   "source": [
    "# Import collections to count the number of duplicates\n",
    "import collections\n",
    "count = collections.Counter(trim)\n",
    "print (count)"
   ]
  },
  {
   "cell_type": "code",
   "execution_count": 7,
   "metadata": {},
   "outputs": [],
   "source": [
    "# Comparison Text\n",
    "comp = \"faithful adaptation, humerous, this is the best, down with the bourgeois\"\n",
    "comp_words = just_words(comp)"
   ]
  },
  {
   "cell_type": "code",
   "execution_count": 8,
   "metadata": {},
   "outputs": [
    {
     "name": "stdout",
     "output_type": "stream",
     "text": [
      "{'faithful': 1, 'adaptation': 1, 'witty': 0, 'interesting': 0, 'french': 0, 'novel': 0, 'cynical': 0, 'depressed': 0, 'middle': 0, 'aged': 0, 'software': 0, 'engineer': 0, 'something': 0, 'relying': 0, 'heavily': 0, 'first': 0, 'person': 0, 'narration': 0, 'none': 0, 'worse': 0, 'downbeat': 0, 'petit': 0, 'bourgeois': 1, 'sort': 0, 'way': 0, 'philosophical': 0, 'blackly': 0, 'humorous': 0, 'best': 1, 'could': 0, 'describe': 0, 'film': 0, 'like': 0, 'intellectual': 0, 'charles': 0, 'bukowski': 0, 'disrespect': 0, 'cb': 0, 'intended': 0, 'mordantly': 0, 'funny': 0, 'also': 0, 'bleak': 0, 'analysis': 0, 'social': 0, 'sexual': 0, 'relations': 0, 'great': 0, 'achievement': 0, 'reflects': 0, 'real': 0, 'life': 0, 'recognisable': 0, 'make': 0, 'ask': 0, 'films': 0, 'one': 0, 'rare': 0, 'examples': 0, 'good': 0, 'book': 0, 'making': 0, 'equally': 0}\n"
     ]
    }
   ],
   "source": [
    "# Method taking two input lists giving a dictionary of the first list and a 1 or 0 depending on if the word appears in the second list\n",
    "def match(list, comp_list):\n",
    "    D = {}\n",
    "    for w in trim:\n",
    "        if w in comp_words:\n",
    "            D[w]=1\n",
    "        else:\n",
    "            D[w]=0\n",
    "\n",
    "    return(D)\n",
    "\n",
    "# Dictionary with input compared to comparison list with 1's and 0's\n",
    "comp = match(trim, comp_words)\n",
    "print(comp)"
   ]
  },
  {
   "cell_type": "code",
   "execution_count": 12,
   "metadata": {},
   "outputs": [
    {
     "name": "stdout",
     "output_type": "stream",
     "text": [
      "[1, 1, 0, 0, 0, 0, 0, 0, 0, 0, 0, 0, 0, 0, 0, 0, 0, 0, 0, 0, 0, 0, 1, 0, 0, 0, 0, 0, 1, 0, 0, 0, 0, 0, 0, 0, 0, 0, 0, 0, 0, 0, 0, 0, 0, 0, 0, 0, 0, 0, 0, 0, 0, 0, 0, 0, 0, 0, 0, 0, 0, 0, 0]\n"
     ]
    }
   ],
   "source": [
    "# Print just the 1's and 0's\n",
    "print(list(comp.values()))"
   ]
  },
  {
   "cell_type": "code",
   "execution_count": 10,
   "metadata": {},
   "outputs": [
    {
     "name": "stdout",
     "output_type": "stream",
     "text": [
      "dict_values([4, 59])\n",
      "Percent Similarity: 0.06349206349206349\n"
     ]
    }
   ],
   "source": [
    "# Counter of similarites \n",
    "counter=collections.Counter(list(comp.values()))\n",
    "print(counter.values())\n",
    "sim = float(counter[1]/(counter[0]+counter[1]))   #percent of words that appeared in the compared text\n",
    "print(\"Percent Similarity: \" + str(sim))"
   ]
  }
 ],
 "metadata": {
  "kernelspec": {
   "display_name": "Python 3",
   "language": "python",
   "name": "python3"
  },
  "language_info": {
   "codemirror_mode": {
    "name": "ipython",
    "version": 3
   },
   "file_extension": ".py",
   "mimetype": "text/x-python",
   "name": "python",
   "nbconvert_exporter": "python",
   "pygments_lexer": "ipython3",
   "version": "3.6.1"
  }
 },
 "nbformat": 4,
 "nbformat_minor": 2
}
